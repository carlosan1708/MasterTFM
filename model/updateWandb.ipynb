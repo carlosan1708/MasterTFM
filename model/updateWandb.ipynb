{
 "cells": [
  {
   "cell_type": "code",
   "execution_count": 49,
   "metadata": {},
   "outputs": [],
   "source": [
    "import wandb\n",
    "api = wandb.Api()\n",
    "\n",
    "\n",
    "metrics =  {\n",
    "     \"test_per_image_iou\": 0.9898109436035156,\n",
    "      \"test_dataset_iou\": 0.9898940920829773,\n",
    "      \"test_loss\": 0.0227653831243515\n",
    "    }\n",
    "\n",
    "run = api.run(\"/carlosan1708/Segmentation-TFM/runs/2tbx29up\")\n",
    "run.summary[\"test_per_image_iou\"] = metrics['test_per_image_iou']\n",
    "run.summary[\"test_dataset_iou\"] = metrics['test_dataset_iou']\n",
    "run.summary[\"test_loss\"] = metrics['test_loss']\n",
    "run.update()\n",
    "\n"
   ]
  }
 ],
 "metadata": {
  "kernelspec": {
   "display_name": ".venv",
   "language": "python",
   "name": "python3"
  },
  "language_info": {
   "codemirror_mode": {
    "name": "ipython",
    "version": 3
   },
   "file_extension": ".py",
   "mimetype": "text/x-python",
   "name": "python",
   "nbconvert_exporter": "python",
   "pygments_lexer": "ipython3",
   "version": "3.9.13 (main, Aug 25 2022, 23:51:50) [MSC v.1916 64 bit (AMD64)]"
  },
  "orig_nbformat": 4,
  "vscode": {
   "interpreter": {
    "hash": "f02ea47caad7363461892f068b6942e365afda11e7ca4d1085ba5cde508078f1"
   }
  }
 },
 "nbformat": 4,
 "nbformat_minor": 2
}
